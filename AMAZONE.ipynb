{
 "cells": [
  {
   "cell_type": "code",
   "execution_count": 1,
   "metadata": {},
   "outputs": [
    {
     "data": {
      "text/plain": [
       "('AOC CQ34G2 Super Curved Frameless Gaming Monitor, UltraWide FHD 2560x1080, 1500R VA Panel, 1ms MPRT, 75Hz, FreeSync, Height Adjustable, 3-Yr Zero Dead Pixels Black/Silver',\n",
       " '$299.40',\n",
       " '4.7 out of 5 stars',\n",
       " '8,256',\n",
       " 'https://www.amazon.com/gp/slredirect/picassoRedirect.html/ref=pa_sp_atf_computers_sr_pg1_1?ie=UTF8&adId=A0017644VP076XASNW48&url=%2FAOC-CQ34G2-Frameless-UltraWide-Adjustable%2Fdp%2FB08632C4MS%2Fref%3Dsr_1_1_sspa%3Fdchild%3D1%26keywords%3Dultrawide%2Bmonitor%26qid%3D1620226041%26s%3Dpc%26sr%3D1-1-spons%26psc%3D1&qualifier=1620226041&id=7472582927744874&widgetName=sp_atf')"
      ]
     },
     "execution_count": 1,
     "metadata": {},
     "output_type": "execute_result"
    }
   ],
   "source": [
    "# Trích xuất dữ liệu từ Amazon\n",
    "# import các file cần thiết\n",
    "import csv\n",
    "from bs4 import BeautifulSoup\n",
    "from selenium import webdriver\n",
    "\n",
    "\n",
    "driver = webdriver.Chrome(executable_path=r\"C:\\Users\\maico\\Documents\\Python Scripts\\chromedriver\\chromedriver.exe\")\n",
    "\n",
    "\n",
    "# Viết chương trình lấy url bằng item và số trang \n",
    "def get_url(search_terms,page):\n",
    "    template1 = \"https://www.amazon.com/s?k=\" \n",
    "    template2 = \"&rh=n%3A1292115011\"\n",
    "    template3 = \"&ref=nb_sb_noss\"\n",
    "    search_terms = search_terms.replace(\" \",\"+\")\n",
    "    return template1 + search_terms + template2 + \"&page=\" + str(page) + template3\n",
    "def extract_record(item):\n",
    "    \n",
    "    # description and url\n",
    "    atag = item.h2.a\n",
    "    description = atag.text.strip()\n",
    "    url = \"https://www.amazon.com\"+atag.get(\"href\")\n",
    "    \n",
    "    # price\n",
    "    try: \n",
    "        price_parent=item.find(\"span\",\"a-price\")\n",
    "        price = price_parent.find(\"span\",\"a-offscreen\").text\n",
    "    except AttributeError:\n",
    "        return \n",
    "    \n",
    "    # rank and rating \n",
    "    try:\n",
    "        rating = item.i.text\n",
    "        review_count = item.find(\"span\",{\"class\":\"a-size-base\"}).text\n",
    "    except AttributeError:\n",
    "        rating = \"\"\n",
    "        review_count = \"\"\n",
    "    \n",
    "    result = (description, price, rating, review_count, url)\n",
    "    return result\n",
    "def final(search_item):\n",
    "    records = []\n",
    "    for i in range(1,17):\n",
    "        url = get_url(search_item,i)\n",
    "        driver.get(url)\n",
    "        soup = BeautifulSoup(driver.page_source,\"html.parser\")\n",
    "        results = soup.find_all(\"div\",{\"data-component-type\":\"s-search-result\"})\n",
    "        for item in results:\n",
    "            t = extract_record(item)\n",
    "            records.append(t)\n",
    "    return records\n",
    "final_result = final(\"ultrawide monitor\")\n",
    "final_result[0]\n",
    "\n",
    "        \n",
    "    \n",
    "    "
   ]
  },
  {
   "cell_type": "code",
   "execution_count": 2,
   "metadata": {},
   "outputs": [
    {
     "data": {
      "text/plain": [
       "391"
      ]
     },
     "execution_count": 2,
     "metadata": {},
     "output_type": "execute_result"
    }
   ],
   "source": [
    "len(final_result)"
   ]
  },
  {
   "cell_type": "code",
   "execution_count": 4,
   "metadata": {},
   "outputs": [],
   "source": [
    "# Xuất kết quả ra file\n",
    "import pandas as pd \n",
    "df = pd.DataFrame(final_result,columns = [\"description\", \"price\", \"rating\", \"review_count\", \"url\"])\n",
    "df.to_csv(\"amazon.csv\",index=False)"
   ]
  }
 ],
 "metadata": {
  "kernelspec": {
   "display_name": "Python 3",
   "language": "python",
   "name": "python3"
  },
  "language_info": {
   "codemirror_mode": {
    "name": "ipython",
    "version": 3
   },
   "file_extension": ".py",
   "mimetype": "text/x-python",
   "name": "python",
   "nbconvert_exporter": "python",
   "pygments_lexer": "ipython3",
   "version": "3.8.5"
  }
 },
 "nbformat": 4,
 "nbformat_minor": 4
}
